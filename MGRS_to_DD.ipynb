{
  "nbformat": 4,
  "nbformat_minor": 0,
  "metadata": {
    "colab": {
      "name": "MGRS_to_DD.ipynb",
      "provenance": [],
      "collapsed_sections": [],
      "authorship_tag": "ABX9TyM8W6cxrIMi03560wvu8POQ",
      "include_colab_link": true
    },
    "kernelspec": {
      "name": "python3",
      "display_name": "Python 3"
    },
    "language_info": {
      "name": "python"
    }
  },
  "cells": [
    {
      "cell_type": "markdown",
      "metadata": {
        "id": "view-in-github",
        "colab_type": "text"
      },
      "source": [
        "<a href=\"https://colab.research.google.com/github/lancerowen23/MGRS_to_DecimalDegrees/blob/main/MGRS_to_DD.ipynb\" target=\"_parent\"><img src=\"https://colab.research.google.com/assets/colab-badge.svg\" alt=\"Open In Colab\"/></a>"
      ]
    },
    {
      "cell_type": "code",
      "execution_count": 1,
      "metadata": {
        "colab": {
          "base_uri": "https://localhost:8080/"
        },
        "id": "iWjaPMiJ4NNr",
        "outputId": "1a0425ab-5536-4dc2-a78f-afe52ee89531"
      },
      "outputs": [
        {
          "output_type": "stream",
          "name": "stdout",
          "text": [
            "Collecting mgrs\n",
            "  Downloading mgrs-1.4.5-cp37-cp37m-manylinux_2_12_x86_64.manylinux2010_x86_64.manylinux_2_17_x86_64.manylinux2014_x86_64.whl (52 kB)\n",
            "\u001b[?25l\r\u001b[K     |██████▏                         | 10 kB 21.3 MB/s eta 0:00:01\r\u001b[K     |████████████▍                   | 20 kB 23.4 MB/s eta 0:00:01\r\u001b[K     |██████████████████▋             | 30 kB 13.1 MB/s eta 0:00:01\r\u001b[K     |████████████████████████▊       | 40 kB 8.4 MB/s eta 0:00:01\r\u001b[K     |███████████████████████████████ | 51 kB 8.4 MB/s eta 0:00:01\r\u001b[K     |████████████████████████████████| 52 kB 847 kB/s \n",
            "\u001b[?25hRequirement already satisfied: packaging in /usr/local/lib/python3.7/dist-packages (from mgrs) (21.3)\n",
            "Requirement already satisfied: pyparsing!=3.0.5,>=2.0.2 in /usr/local/lib/python3.7/dist-packages (from packaging->mgrs) (3.0.8)\n",
            "Installing collected packages: mgrs\n",
            "Successfully installed mgrs-1.4.5\n"
          ]
        }
      ],
      "source": [
        "pip install mgrs"
      ]
    },
    {
      "cell_type": "code",
      "source": [
        "import mgrs\n",
        "import pandas as pd"
      ],
      "metadata": {
        "id": "vfqaIhQ64ROr"
      },
      "execution_count": 103,
      "outputs": []
    },
    {
      "cell_type": "code",
      "source": [
        "#Create list of tables to process\n",
        "tables = ['TableC1_SoilSamples.csv', 'TableC2_WipeSamples.csv', 'TableC3_AirSamples.csv']"
      ],
      "metadata": {
        "id": "58wUGRQBthsp"
      },
      "execution_count": 104,
      "outputs": []
    },
    {
      "cell_type": "code",
      "source": [
        "#Loop to iterate through each table, extract MGRS field to get Lat/Long and then bind back to original table and export\n",
        "for x in tables:\n",
        "  new_df = pd.DataFrame(columns = ['Location_MGRS', 'Lat', 'Long'])\n",
        "  df = pd.read_csv(x)\n",
        "  list = df.Location_MGRS.tolist()\n",
        "  for i in list:\n",
        "    m = mgrs.MGRS()\n",
        "    lat_long = m.toLatLon(i)\n",
        "    print(lat_long)\n",
        "    new_df = new_df.append({'Location_MGRS': i, 'Lat': lat_long[0], 'Long': lat_long[1]}, ignore_index=True)\n",
        "    final_df = pd.merge(df, new_df, on='Location_MGRS', how='left') \n",
        "    final_df.to_csv(x[:-4] + 'LatLong' + '.csv')"
      ],
      "metadata": {
        "id": "-AGkNo2If3Zg"
      },
      "execution_count": null,
      "outputs": []
    }
  ]
}